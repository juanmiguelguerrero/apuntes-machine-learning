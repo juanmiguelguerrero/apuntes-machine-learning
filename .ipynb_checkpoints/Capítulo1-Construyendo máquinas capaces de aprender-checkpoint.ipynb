{
 "cells": [
  {
   "cell_type": "markdown",
   "metadata": {},
   "source": [
    "# Capítulo 1: Construyendo máquinas capaces de aprender\n",
    "\n",
    "## Presentación\n",
    "\n",
    "## ¿Qué es Machine Learnig o Aprendizaje Automático?\n",
    "\n",
    "El Machine Learning (ML) o Aprendizaje Automático es una disciplina ligada a la Inteligencia Artificial (IA) y a la estadística que persigue enseñar a los ordenadores a aprender para resolver problemas sin ser explícitamente programados para ello. El resultado son algoritmos que son capaces de hacer predicciones y tomar decisiones sin que nadie les haya programado previamente y lo más importante con datos que no han visto nunca.\n",
    "\n",
    "Básicamente se trata de un conjunto de técnicas que permiten entrenar a nuestros ordenadores para descubrir por si solos los patrones que ocultan nuestros datos.\n",
    "\n",
    "Las técnicas de ML se utilizan a día de hoy en multitud de situaciones y contextos diferentes. Algunos ejemplos típicos son:\n",
    "\n",
    "- Detección de spam en tu correo electrónico\n",
    "- Recomendación de productos de compra online\n",
    "- Motores de búsqueda\n",
    "- Reconocimientos de habla, escritura e imágenes\n",
    "- Detección de fraude en uso de tarjetas de crédito\n",
    "- Diagnóstico médico\n",
    "- Análisis del mercado de valores\n",
    "- Robótica\n",
    "\n",
    "## Tres tipos de aprendizaje\n",
    "\n",
    "Teniendo en cuenta la naturaleza de los datos de entrada o aprendizaje de un sistema ML, podemos clasificarlos en tres categorías principales: Aprendizaje Supervisado, no supervisado y por refuerzo.\n",
    "\n",
    "### Aprendizaje supervisado\n",
    "### Aprendizaje no supervisado\n",
    "### Aprendizaje por refuerzo\n",
    "### Otros tipos de aprendizaje\n",
    "\n",
    "De forma típica clasificamos los sistemas de ML dentro de estas 3 categorías principales pero existen otros tipos de aprendizaje.\n",
    "\n",
    "Por ejemplo, entre el aprendizaje supervisado y el no supervisado existe una tipo de aprendizaje denominado semi-supervisado que combina los algoritmos de las dos clases anterirores para poder manejar datos de entrenamiento incompletos.\n",
    "\n",
    "La Transducción es otro caso de aprendizaje especial, similar al aprendizaje supervisado, pero no construye de forma explícita un modelo de predicción. Trata de manejar datos de entrada sin clasificar para asignales una clasificación teniendo en cuenta su propia naturaleza y aquellos datos de entrada que si están clasificados. \n",
    "\n",
    "Otras categorías también podemos hablar del Learning to Learn  aprende su propio sesgo inductivo basado en la experiencia previa. El aprendizaje del desarrollo, elaborado para el aprendizaje de robots, genera sus propias secuencias (también llamadas currículo) de situaciones de aprendizaje para adquirir acumulativamente repertorios de nuevas habilidades a través de la autoexploración autónoma y la interacción social con maestros humanos y utilizando mecanismos de orientación como aprendizaje activo, maduración, Sinergias e imitaciones.\n",
    "\n",
    "Among other categories of machine learning problems, learning to learn learns its own inductive bias based on previous experience. Developmental learning, elaborated for robot learning, generates its own sequences (also called curriculum) of learning situations to cumulatively acquire repertoires of novel skills through autonomous self-exploration and social interaction with human teachers and using guidance mechanisms such as active learning, maturation, motor synergies, and imitation.\n",
    "\n",
    "\n",
    "## Ejemplos de uso\n",
    "\n",
    "## Workflow básico para crear nuestro sistema de aprendizaje\n",
    "\n",
    "## Python para Machine Learning"
   ]
  },
  {
   "cell_type": "code",
   "execution_count": null,
   "metadata": {
    "collapsed": true
   },
   "outputs": [],
   "source": []
  }
 ],
 "metadata": {
  "anaconda-cloud": {},
  "kernelspec": {
   "display_name": "Python [conda root]",
   "language": "python",
   "name": "conda-root-py"
  },
  "language_info": {
   "codemirror_mode": {
    "name": "ipython",
    "version": 3
   },
   "file_extension": ".py",
   "mimetype": "text/x-python",
   "name": "python",
   "nbconvert_exporter": "python",
   "pygments_lexer": "ipython3",
   "version": "3.5.2"
  }
 },
 "nbformat": 4,
 "nbformat_minor": 1
}
